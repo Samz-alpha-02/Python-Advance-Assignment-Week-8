{
 "cells": [
  {
   "cell_type": "code",
   "execution_count": null,
   "id": "c28c6f39-65cd-4c11-b51d-aa7fa6921dea",
   "metadata": {},
   "outputs": [],
   "source": [
    "#Q1\n",
    "1.read_csv(): This function is used to read data from a CSV file and create a DataFrame.\n",
    "\n",
    "import pandas as pd\n",
    "\n",
    "# Read a CSV file into a DataFrame\n",
    "data = pd.read_csv('data.csv')\n",
    "print(data)\n",
    "\n",
    "2.head(): This function returns the first n rows of a DataFrame. By default, it returns the first 5 rows.\n",
    "\n",
    "import pandas as pd\n",
    "\n",
    "# Create a DataFrame\n",
    "data = pd.DataFrame({'A': [1, 2, 3, 4, 5], 'B': ['a', 'b', 'c', 'd', 'e']})\n",
    "\n",
    "# Display the first 3 rows\n",
    "print(data.head(3))\n",
    "\n",
    "3.info(): This function provides a concise summary of a DataFrame, including the data types and column names.\n",
    "\n",
    "import pandas as pd\n",
    "\n",
    "# Create a DataFrame\n",
    "data = pd.DataFrame({'A': [1, 2, 3, 4, 5], 'B': ['a', 'b', 'c', 'd', 'e']})\n",
    "\n",
    "# Get the summary information of the DataFrame\n",
    "data.info()\n",
    "\n",
    "4.groupby(): This function is used for grouping data based on specified criteria and applying operations to the groups.\n",
    "\n",
    "import pandas as pd\n",
    "\n",
    "# Create a DataFrame\n",
    "data = pd.DataFrame({'Category': ['A', 'B', 'A', 'B', 'A'],\n",
    "                     'Value': [1, 2, 3, 4, 5]})\n",
    "\n",
    "# Group the data by 'Category' and calculate the sum of 'Value'\n",
    "grouped_data = data.groupby('Category').sum()\n",
    "print(grouped_data)\n",
    "\n",
    "5.merge(): This function is used to combine two or more DataFrames based on a common key or column.\n",
    "\n",
    "import pandas as pd\n",
    "\n",
    "# Create two DataFrames\n",
    "data1 = pd.DataFrame({'Key': ['A', 'B', 'C'], 'Value1': [1, 2, 3]})\n",
    "data2 = pd.DataFrame({'Key': ['B', 'C', 'D'], 'Value2': [4, 5, 6]})\n",
    "\n",
    "# Merge the two DataFrames based on the 'Key' column\n",
    "merged_data = pd.merge(data1, data2, on='Key')\n",
    "print(merged_data)\n"
   ]
  },
  {
   "cell_type": "code",
   "execution_count": 2,
   "id": "ad4a5730-fc47-41da-8626-d01403aee2a1",
   "metadata": {},
   "outputs": [
    {
     "name": "stdout",
     "output_type": "stream",
     "text": [
      "Original DataFrame:\n",
      "    A  B  C\n",
      "0  10  1  a\n",
      "1  20  2  b\n",
      "2  30  3  c\n",
      "3  40  4  d\n",
      "\n",
      "Re-indexed DataFrame:\n",
      "    A  B  C\n",
      "1  10  1  a\n",
      "3  20  2  b\n",
      "5  30  3  c\n",
      "7  40  4  d\n"
     ]
    }
   ],
   "source": [
    "#Q2\n",
    "import pandas as pd\n",
    "\n",
    "def reindex_dataframe(df):\n",
    "    # Reset the index of the DataFrame starting from 1 and incrementing by 2\n",
    "    df.reset_index(drop=True, inplace=True)\n",
    "    df.index = df.index * 2 + 1\n",
    "    return df\n",
    "\n",
    "df = pd.DataFrame({'A': [10, 20, 30, 40], 'B': [1, 2, 3, 4], 'C': ['a', 'b', 'c', 'd']})\n",
    "print(\"Original DataFrame:\")\n",
    "print(df)\n",
    "\n",
    "reindexed_df = reindex_dataframe(df)\n",
    "print(\"\\nRe-indexed DataFrame:\")\n",
    "print(reindexed_df)\n"
   ]
  },
  {
   "cell_type": "code",
   "execution_count": 19,
   "id": "1a700038-3ec9-4723-a22a-5ab0799d846f",
   "metadata": {},
   "outputs": [
    {
     "name": "stdout",
     "output_type": "stream",
     "text": [
      "60\n"
     ]
    }
   ],
   "source": [
    "#Q3\n",
    "import pandas as pd\n",
    "df = pd.DataFrame({'Values': [10, 20, 30, 40, 50]})\n",
    "sum_values = df['Values'].iloc[0:3].sum()\n",
    "print(sum_values)"
   ]
  },
  {
   "cell_type": "code",
   "execution_count": 80,
   "id": "5c773a14-ffb3-4a0e-b5ed-7e5167a4d485",
   "metadata": {},
   "outputs": [
    {
     "data": {
      "text/html": [
       "<div>\n",
       "<style scoped>\n",
       "    .dataframe tbody tr th:only-of-type {\n",
       "        vertical-align: middle;\n",
       "    }\n",
       "\n",
       "    .dataframe tbody tr th {\n",
       "        vertical-align: top;\n",
       "    }\n",
       "\n",
       "    .dataframe thead th {\n",
       "        text-align: right;\n",
       "    }\n",
       "</style>\n",
       "<table border=\"1\" class=\"dataframe\">\n",
       "  <thead>\n",
       "    <tr style=\"text-align: right;\">\n",
       "      <th></th>\n",
       "      <th>Text</th>\n",
       "      <th>Word_Count</th>\n",
       "    </tr>\n",
       "  </thead>\n",
       "  <tbody>\n",
       "    <tr>\n",
       "      <th>0</th>\n",
       "      <td>school</td>\n",
       "      <td>1</td>\n",
       "    </tr>\n",
       "    <tr>\n",
       "      <th>1</th>\n",
       "      <td>this is good</td>\n",
       "      <td>3</td>\n",
       "    </tr>\n",
       "    <tr>\n",
       "      <th>2</th>\n",
       "      <td>i am too happy</td>\n",
       "      <td>4</td>\n",
       "    </tr>\n",
       "    <tr>\n",
       "      <th>3</th>\n",
       "      <td>ice cream</td>\n",
       "      <td>2</td>\n",
       "    </tr>\n",
       "    <tr>\n",
       "      <th>4</th>\n",
       "      <td>egg roll</td>\n",
       "      <td>2</td>\n",
       "    </tr>\n",
       "    <tr>\n",
       "      <th>5</th>\n",
       "      <td>fried rice</td>\n",
       "      <td>2</td>\n",
       "    </tr>\n",
       "    <tr>\n",
       "      <th>6</th>\n",
       "      <td>omlette</td>\n",
       "      <td>1</td>\n",
       "    </tr>\n",
       "  </tbody>\n",
       "</table>\n",
       "</div>"
      ],
      "text/plain": [
       "             Text  Word_Count\n",
       "0          school           1\n",
       "1    this is good           3\n",
       "2  i am too happy           4\n",
       "3       ice cream           2\n",
       "4        egg roll           2\n",
       "5      fried rice           2\n",
       "6         omlette           1"
      ]
     },
     "execution_count": 80,
     "metadata": {},
     "output_type": "execute_result"
    }
   ],
   "source": [
    "#Q4\n",
    "import pandas as pd\n",
    "\n",
    "df = pd.DataFrame({'Text': ['school', 'this is good', 'i am too happy', 'ice cream', 'egg roll', 'fried rice', 'omlette']})\n",
    "\n",
    "# Count the number of words in each row of the 'Text' column\n",
    "df['Word_Count'] = df['Text'].str.split().apply(len)\n",
    "\n",
    "df\n"
   ]
  },
  {
   "cell_type": "code",
   "execution_count": null,
   "id": "50264f59-83a0-4892-a116-c76515a0892b",
   "metadata": {},
   "outputs": [],
   "source": [
    "#Q5\n",
    "The DataFrame.size and DataFrame.shape attributes in pandas provide different information about the dimensions of a DataFrame:\n",
    "\n",
    "1.DataFrame.size: This attribute returns the total number of elements in the DataFrame. It represents the product of the \n",
    "                  number of rows and the number of columns in the DataFrame.\n",
    "\n",
    "For example:"
   ]
  },
  {
   "cell_type": "code",
   "execution_count": 34,
   "id": "1b0b93cf-e305-4070-8490-2dc564f8532e",
   "metadata": {},
   "outputs": [
    {
     "name": "stdout",
     "output_type": "stream",
     "text": [
      "6\n"
     ]
    }
   ],
   "source": [
    "import pandas as pd\n",
    "\n",
    "df = pd.DataFrame({'A': [1, 2, 3], 'B': [4, 5, 6]})\n",
    "size = df.size\n",
    "\n",
    "print(size)\n"
   ]
  },
  {
   "cell_type": "code",
   "execution_count": null,
   "id": "7bdedf1f-6e14-49b9-aa14-07513a8a5d7f",
   "metadata": {},
   "outputs": [],
   "source": [
    "2.DataFrame.shape: This attribute returns a tuple representing the dimensions of the DataFrame, i.e., the number of rows \n",
    "                   and the number of columns.\n",
    "For example:"
   ]
  },
  {
   "cell_type": "code",
   "execution_count": 35,
   "id": "19b294f2-5d5e-488c-999d-7d33a18b273b",
   "metadata": {},
   "outputs": [
    {
     "name": "stdout",
     "output_type": "stream",
     "text": [
      "(3, 2)\n"
     ]
    }
   ],
   "source": [
    "import pandas as pd\n",
    "\n",
    "df = pd.DataFrame({'A': [1, 2, 3], 'B': [4, 5, 6]})\n",
    "shape = df.shape\n",
    "\n",
    "print(shape)\n"
   ]
  },
  {
   "cell_type": "code",
   "execution_count": null,
   "id": "cef27f18-f6d3-4fb1-bc60-88f7a63fca04",
   "metadata": {},
   "outputs": [],
   "source": [
    "To summarize, DataFrame.size provides the total number of elements in the DataFrame, while DataFrame.shape gives the \n",
    "dimensions of the DataFrame as a tuple (number of rows, number of columns)."
   ]
  },
  {
   "cell_type": "code",
   "execution_count": null,
   "id": "1fc3dea0-e45e-43c5-9fb5-ec95dd3c098f",
   "metadata": {},
   "outputs": [],
   "source": [
    "#Q6\n",
    "To read an Excel file, pandas provides the read_excel() function. This function allows us to read the data from an\n",
    "Excel file and create a DataFrame."
   ]
  },
  {
   "cell_type": "code",
   "execution_count": 62,
   "id": "e2d3941e-24fb-4d1e-98e0-491b852727e5",
   "metadata": {},
   "outputs": [
    {
     "data": {
      "text/html": [
       "<div>\n",
       "<style scoped>\n",
       "    .dataframe tbody tr th:only-of-type {\n",
       "        vertical-align: middle;\n",
       "    }\n",
       "\n",
       "    .dataframe tbody tr th {\n",
       "        vertical-align: top;\n",
       "    }\n",
       "\n",
       "    .dataframe thead th {\n",
       "        text-align: right;\n",
       "    }\n",
       "</style>\n",
       "<table border=\"1\" class=\"dataframe\">\n",
       "  <thead>\n",
       "    <tr style=\"text-align: right;\">\n",
       "      <th></th>\n",
       "      <th>Email</th>\n",
       "      <th>Username</th>\n",
       "    </tr>\n",
       "  </thead>\n",
       "  <tbody>\n",
       "    <tr>\n",
       "      <th>0</th>\n",
       "      <td>john.doe@gmail.com</td>\n",
       "      <td>john.doe</td>\n",
       "    </tr>\n",
       "    <tr>\n",
       "      <th>1</th>\n",
       "      <td>abc@gmail.com</td>\n",
       "      <td>abc</td>\n",
       "    </tr>\n",
       "    <tr>\n",
       "      <th>2</th>\n",
       "      <td>alex123@gmail.com</td>\n",
       "      <td>alex123</td>\n",
       "    </tr>\n",
       "    <tr>\n",
       "      <th>3</th>\n",
       "      <td>pedro.671@yahoo.com</td>\n",
       "      <td>pedro.671</td>\n",
       "    </tr>\n",
       "    <tr>\n",
       "      <th>4</th>\n",
       "      <td>Tom007@hotmail.com</td>\n",
       "      <td>Tom007</td>\n",
       "    </tr>\n",
       "    <tr>\n",
       "      <th>5</th>\n",
       "      <td>rodrigo.myself@outlook.com</td>\n",
       "      <td>rodrigo.myself</td>\n",
       "    </tr>\n",
       "  </tbody>\n",
       "</table>\n",
       "</div>"
      ],
      "text/plain": [
       "                        Email        Username\n",
       "0          john.doe@gmail.com        john.doe\n",
       "1               abc@gmail.com             abc\n",
       "2           alex123@gmail.com         alex123\n",
       "3         pedro.671@yahoo.com       pedro.671\n",
       "4          Tom007@hotmail.com          Tom007\n",
       "5  rodrigo.myself@outlook.com  rodrigo.myself"
      ]
     },
     "execution_count": 62,
     "metadata": {},
     "output_type": "execute_result"
    }
   ],
   "source": [
    "#Q7\n",
    "import pandas as pd\n",
    "df = pd.DataFrame({'Email': ['john.doe@gmail.com', 'abc@gmail.com', 'alex123@gmail.com', 'pedro.671@yahoo.com', \n",
    "                             'Tom007@hotmail.com', 'rodrigo.myself@outlook.com']})\n",
    "s = df['Email'].str.split('@')\n",
    "df['Username'] = s.str[0]\n",
    "df"
   ]
  },
  {
   "cell_type": "code",
   "execution_count": 79,
   "id": "a484ded4-7e76-418e-9ff0-a27d4fa98139",
   "metadata": {},
   "outputs": [
    {
     "data": {
      "text/html": [
       "<div>\n",
       "<style scoped>\n",
       "    .dataframe tbody tr th:only-of-type {\n",
       "        vertical-align: middle;\n",
       "    }\n",
       "\n",
       "    .dataframe tbody tr th {\n",
       "        vertical-align: top;\n",
       "    }\n",
       "\n",
       "    .dataframe thead th {\n",
       "        text-align: right;\n",
       "    }\n",
       "</style>\n",
       "<table border=\"1\" class=\"dataframe\">\n",
       "  <thead>\n",
       "    <tr style=\"text-align: right;\">\n",
       "      <th></th>\n",
       "      <th>A</th>\n",
       "      <th>B</th>\n",
       "      <th>C</th>\n",
       "    </tr>\n",
       "  </thead>\n",
       "  <tbody>\n",
       "    <tr>\n",
       "      <th>1</th>\n",
       "      <td>8</td>\n",
       "      <td>2</td>\n",
       "      <td>7</td>\n",
       "    </tr>\n",
       "    <tr>\n",
       "      <th>2</th>\n",
       "      <td>6</td>\n",
       "      <td>9</td>\n",
       "      <td>4</td>\n",
       "    </tr>\n",
       "    <tr>\n",
       "      <th>4</th>\n",
       "      <td>9</td>\n",
       "      <td>1</td>\n",
       "      <td>2</td>\n",
       "    </tr>\n",
       "  </tbody>\n",
       "</table>\n",
       "</div>"
      ],
      "text/plain": [
       "   A  B  C\n",
       "1  8  2  7\n",
       "2  6  9  4\n",
       "4  9  1  2"
      ]
     },
     "execution_count": 79,
     "metadata": {},
     "output_type": "execute_result"
    }
   ],
   "source": [
    "#Q8\n",
    "import pandas as pd\n",
    "\n",
    "df = pd.DataFrame({'A': [3, 8, 6, 2, 9], 'B': [5, 2, 9, 3, 1], 'C': [1, 7, 4, 5, 2]})\n",
    "\n",
    "# Filter rows based on conditions\n",
    "filtered_df = df[(df['A'] > 5) & (df['B'] < 10)]\n",
    "\n",
    "filtered_df\n"
   ]
  },
  {
   "cell_type": "code",
   "execution_count": 87,
   "id": "3ca4e12c-850e-44e5-a6c6-aa05271d4b20",
   "metadata": {},
   "outputs": [
    {
     "name": "stdout",
     "output_type": "stream",
     "text": [
      "Mean: 6.0\n",
      "Median: 6.5\n",
      "Standard Deviation: 3.1622776601683795\n"
     ]
    }
   ],
   "source": [
    "#Q9\n",
    "import pandas as pd\n",
    "\n",
    "df = pd.DataFrame({'Values':[3,8,1,7,9,9,2,5,10,6]})\n",
    "mean = df['Values'].mean()\n",
    "median = df['Values'].median()\n",
    "sd = df['Values'].std()\n",
    "print(\"Mean:\", mean)\n",
    "print(\"Median:\", median)\n",
    "print(\"Standard Deviation:\", sd)"
   ]
  },
  {
   "cell_type": "code",
   "execution_count": 88,
   "id": "96d200c6-fd7e-43bf-b964-8f73a4dbd7f3",
   "metadata": {},
   "outputs": [
    {
     "name": "stdout",
     "output_type": "stream",
     "text": [
      "        Date  Sales  MovingAverage\n",
      "0 2023-07-01     10           10.0\n",
      "1 2023-07-02     20           15.0\n",
      "2 2023-07-03     30           20.0\n",
      "3 2023-07-04     40           25.0\n",
      "4 2023-07-05     50           30.0\n",
      "5 2023-07-06     60           35.0\n",
      "6 2023-07-07     70           40.0\n",
      "7 2023-07-08     80           50.0\n",
      "8 2023-07-09     90           60.0\n",
      "9 2023-07-10    100           70.0\n"
     ]
    }
   ],
   "source": [
    "#Q10\n",
    "import pandas as pd\n",
    "\n",
    "def calculate_moving_average(df):\n",
    "    # Sort the DataFrame by the 'Date' column in ascending order\n",
    "    df.sort_values('Date', inplace=True)\n",
    "    \n",
    "    # Calculate the moving average using a window of size 7\n",
    "    df['MovingAverage'] = df['Sales'].rolling(window=7, min_periods=1).mean()\n",
    "    \n",
    "    return df\n",
    "\n",
    "# Example usage\n",
    "df = pd.DataFrame({'Date': ['2023-07-01', '2023-07-02', '2023-07-03', '2023-07-04', '2023-07-05',\n",
    "                            '2023-07-06', '2023-07-07', '2023-07-08', '2023-07-09', '2023-07-10'],\n",
    "                   'Sales': [10, 20, 30, 40, 50, 60, 70, 80, 90, 100]})\n",
    "\n",
    "# Convert the 'Date' column to datetime type\n",
    "df['Date'] = pd.to_datetime(df['Date'])\n",
    "\n",
    "# Calculate the moving average\n",
    "df = calculate_moving_average(df)\n",
    "print(df)\n"
   ]
  },
  {
   "cell_type": "code",
   "execution_count": 95,
   "id": "d3a2e7bb-9f5e-4f59-b2f0-a13cb0174189",
   "metadata": {},
   "outputs": [
    {
     "data": {
      "text/html": [
       "<div>\n",
       "<style scoped>\n",
       "    .dataframe tbody tr th:only-of-type {\n",
       "        vertical-align: middle;\n",
       "    }\n",
       "\n",
       "    .dataframe tbody tr th {\n",
       "        vertical-align: top;\n",
       "    }\n",
       "\n",
       "    .dataframe thead th {\n",
       "        text-align: right;\n",
       "    }\n",
       "</style>\n",
       "<table border=\"1\" class=\"dataframe\">\n",
       "  <thead>\n",
       "    <tr style=\"text-align: right;\">\n",
       "      <th></th>\n",
       "      <th>Date</th>\n",
       "      <th>Weekday</th>\n",
       "    </tr>\n",
       "  </thead>\n",
       "  <tbody>\n",
       "    <tr>\n",
       "      <th>0</th>\n",
       "      <td>2023-01-01</td>\n",
       "      <td>Sunday</td>\n",
       "    </tr>\n",
       "    <tr>\n",
       "      <th>1</th>\n",
       "      <td>2023-01-02</td>\n",
       "      <td>Monday</td>\n",
       "    </tr>\n",
       "    <tr>\n",
       "      <th>2</th>\n",
       "      <td>2023-01-03</td>\n",
       "      <td>Tuesday</td>\n",
       "    </tr>\n",
       "    <tr>\n",
       "      <th>3</th>\n",
       "      <td>2023-01-04</td>\n",
       "      <td>Wednesday</td>\n",
       "    </tr>\n",
       "    <tr>\n",
       "      <th>4</th>\n",
       "      <td>2023-01-05</td>\n",
       "      <td>Thursday</td>\n",
       "    </tr>\n",
       "    <tr>\n",
       "      <th>5</th>\n",
       "      <td>2023-01-06</td>\n",
       "      <td>Friday</td>\n",
       "    </tr>\n",
       "    <tr>\n",
       "      <th>6</th>\n",
       "      <td>2023-01-07</td>\n",
       "      <td>Saturday</td>\n",
       "    </tr>\n",
       "    <tr>\n",
       "      <th>7</th>\n",
       "      <td>2023-01-08</td>\n",
       "      <td>Sunday</td>\n",
       "    </tr>\n",
       "    <tr>\n",
       "      <th>8</th>\n",
       "      <td>2023-01-09</td>\n",
       "      <td>Monday</td>\n",
       "    </tr>\n",
       "    <tr>\n",
       "      <th>9</th>\n",
       "      <td>2023-01-10</td>\n",
       "      <td>Tuesday</td>\n",
       "    </tr>\n",
       "  </tbody>\n",
       "</table>\n",
       "</div>"
      ],
      "text/plain": [
       "        Date    Weekday\n",
       "0 2023-01-01     Sunday\n",
       "1 2023-01-02     Monday\n",
       "2 2023-01-03    Tuesday\n",
       "3 2023-01-04  Wednesday\n",
       "4 2023-01-05   Thursday\n",
       "5 2023-01-06     Friday\n",
       "6 2023-01-07   Saturday\n",
       "7 2023-01-08     Sunday\n",
       "8 2023-01-09     Monday\n",
       "9 2023-01-10    Tuesday"
      ]
     },
     "execution_count": 95,
     "metadata": {},
     "output_type": "execute_result"
    }
   ],
   "source": [
    "#Q11\n",
    "import pandas as pd\n",
    "\n",
    "df = pd.DataFrame({'Date': ['2023-01-01', '2023-01-02', '2023-01-03', '2023-01-04', '2023-01-05',\n",
    "                            '2023-01-06', '2023-01-07', '2023-01-08', '2023-01-09', '2023-01-10']})\n",
    "df['Date'] = pd.to_datetime(df['Date'])\n",
    "df['Weekday'] = df['Date'].dt.day_name()\n",
    "df"
   ]
  },
  {
   "cell_type": "code",
   "execution_count": 96,
   "id": "1a31be27-0cf6-4608-b331-cf0328ef0323",
   "metadata": {},
   "outputs": [
    {
     "name": "stdout",
     "output_type": "stream",
     "text": [
      "        Date  Value\n",
      "0 2023-01-01     10\n",
      "1 2023-01-10     20\n",
      "2 2023-01-20     30\n"
     ]
    }
   ],
   "source": [
    "#Q12\n",
    "import pandas as pd\n",
    "\n",
    "def select_rows_between_dates(df):\n",
    "    # Convert 'Date' column to datetime type\n",
    "    df['Date'] = pd.to_datetime(df['Date'])\n",
    "\n",
    "    # Filter rows based on date range\n",
    "    selected_rows = df[df['Date'].between('2023-01-01', '2023-01-31')]\n",
    "\n",
    "    return selected_rows\n",
    "\n",
    "# Example usage\n",
    "df = pd.DataFrame({'Date': ['2023-01-01', '2023-01-10', '2023-01-20', '2023-02-05', '2023-02-15'],\n",
    "                   'Value': [10, 20, 30, 40, 50]})\n",
    "\n",
    "# Select rows between '2023-01-01' and '2023-01-31'\n",
    "selected_df = select_rows_between_dates(df)\n",
    "print(selected_df)\n"
   ]
  },
  {
   "cell_type": "code",
   "execution_count": null,
   "id": "987786ae-0431-4c90-a476-0eb8a4d09dc0",
   "metadata": {},
   "outputs": [],
   "source": [
    "#Q13\n",
    "The first and foremost library that needs to be imported to use the basic functions of pandas is the pandas \n",
    "library itself. The pandas library is the core library for data manipulation and analysis in Python, and it \n",
    "provides powerful data structures and functions for working with structured data.\n",
    "\n",
    "import pandas as pd\n",
    "\n",
    "In this import statement, pd is an alias or shorthand that is commonly used to refer to the pandas library. \n",
    "This alias allows you to access the pandas functions and classes using the pd prefix."
   ]
  }
 ],
 "metadata": {
  "kernelspec": {
   "display_name": "Python 3 (ipykernel)",
   "language": "python",
   "name": "python3"
  },
  "language_info": {
   "codemirror_mode": {
    "name": "ipython",
    "version": 3
   },
   "file_extension": ".py",
   "mimetype": "text/x-python",
   "name": "python",
   "nbconvert_exporter": "python",
   "pygments_lexer": "ipython3",
   "version": "3.10.8"
  }
 },
 "nbformat": 4,
 "nbformat_minor": 5
}
